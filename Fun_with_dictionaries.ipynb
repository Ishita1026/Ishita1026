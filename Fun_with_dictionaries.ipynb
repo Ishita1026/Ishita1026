{
  "nbformat": 4,
  "nbformat_minor": 0,
  "metadata": {
    "colab": {
      "provenance": [],
      "authorship_tag": "ABX9TyOwmECt5xDR/rJq+B/4k9tV",
      "include_colab_link": true
    },
    "kernelspec": {
      "name": "python3",
      "display_name": "Python 3"
    },
    "language_info": {
      "name": "python"
    }
  },
  "cells": [
    {
      "cell_type": "markdown",
      "metadata": {
        "id": "view-in-github",
        "colab_type": "text"
      },
      "source": [
        "<a href=\"https://colab.research.google.com/github/Ishita1026/Ishita1026/blob/main/Fun_with_dictionaries.ipynb\" target=\"_parent\"><img src=\"https://colab.research.google.com/assets/colab-badge.svg\" alt=\"Open In Colab\"/></a>"
      ]
    },
    {
      "cell_type": "code",
      "execution_count": null,
      "metadata": {
        "id": "D2rKpbOg5PlQ"
      },
      "outputs": [],
      "source": [
        "# 1 Create a user profile for your new game.\n",
        "# This user profile will be stored in a dictionary with keys: 'age', 'username', 'weapons', 'is_active' and 'clan'\n",
        "\n",
        "# 2 iterate and print all the keys in the above user.\n",
        "\n",
        "# 3 Add a new weapon to your user\n",
        "\n",
        "# 4 Add a new key to include 'is_banned'. Set it to false\n",
        "\n",
        "# 5 Ban the user by setting the previous key to True\n",
        "\n",
        "# 6 create a new user2 my copying the previous user and update the age value and username value.\n",
        "user_profile={'age':0,\n",
        "              'username':'malphite',\n",
        "              'weapons':None,\n",
        "              'is_active':True,\n",
        "              'clan':None\n",
        "              }\n"
      ]
    },
    {
      "cell_type": "code",
      "source": [
        "print(user_profile.keys())"
      ],
      "metadata": {
        "colab": {
          "base_uri": "https://localhost:8080/"
        },
        "id": "2LrzhWco9A0R",
        "outputId": "0e443837-1c16-4a50-db8a-4a5cb7b3f35b"
      },
      "execution_count": null,
      "outputs": [
        {
          "output_type": "stream",
          "name": "stdout",
          "text": [
            "dict_keys(['age', 'username', 'weapons', 'is_active', 'clan'])\n"
          ]
        }
      ]
    },
    {
      "cell_type": "code",
      "source": [
        "user_profile['weapons']='bomb'\n",
        "user_profile.update({'is_banned':False})\n",
        "user_profile['is_banned']=True\n",
        "\n",
        "user2=user_profile.copy()\n",
        "user2.update({'age':20,'username':'begasaurus'})\n",
        "print(user_profile)\n",
        "print(user2)"
      ],
      "metadata": {
        "colab": {
          "base_uri": "https://localhost:8080/"
        },
        "collapsed": true,
        "id": "pPSVQTGU-Dtq",
        "outputId": "4ad76493-93e0-40ce-8dfa-1a1b679447cf"
      },
      "execution_count": null,
      "outputs": [
        {
          "output_type": "stream",
          "name": "stdout",
          "text": [
            "{'age': 0, 'username': 'malphite', 'weapons': 'bomb', 'is_active': True, 'clan': None, 'is_banned': True}\n",
            "{'age': 20, 'username': 'begasaurus', 'weapons': 'bomb', 'is_active': True, 'clan': None, 'is_banned': True}\n"
          ]
        }
      ]
    },
    {
      "cell_type": "code",
      "source": [],
      "metadata": {
        "id": "68HoSyEC_ItT"
      },
      "execution_count": null,
      "outputs": []
    }
  ]
}