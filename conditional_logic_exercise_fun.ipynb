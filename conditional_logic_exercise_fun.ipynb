{
  "nbformat": 4,
  "nbformat_minor": 0,
  "metadata": {
    "colab": {
      "provenance": [],
      "authorship_tag": "ABX9TyOwTGhk3U6VLQOp5KkQ1jIg",
      "include_colab_link": true
    },
    "kernelspec": {
      "name": "python3",
      "display_name": "Python 3"
    },
    "language_info": {
      "name": "python"
    }
  },
  "cells": [
    {
      "cell_type": "markdown",
      "metadata": {
        "id": "view-in-github",
        "colab_type": "text"
      },
      "source": [
        "<a href=\"https://colab.research.google.com/github/Ishita1026/Ishita1026/blob/main/conditional_logic_exercise_fun.ipynb\" target=\"_parent\"><img src=\"https://colab.research.google.com/assets/colab-badge.svg\" alt=\"Open In Colab\"/></a>"
      ]
    },
    {
      "cell_type": "code",
      "execution_count": 10,
      "metadata": {
        "colab": {
          "base_uri": "https://localhost:8080/"
        },
        "id": "la9xIf_9Hwx2",
        "outputId": "2ed4659c-3b07-42f0-ec53-0525af5167b1"
      },
      "outputs": [
        {
          "output_type": "stream",
          "name": "stdout",
          "text": [
            "Sorry! Not eligible to drive the car.\n",
            "okokook!\n"
          ]
        }
      ],
      "source": [
        "# car detects whether a person can drive the car or not. let's suppose tesla has a new feature like that. How do we select people who can drive the car?\n",
        "# who can drive a car? a person over 18 years of age (old_enough) and has a license(is_licensed)\n",
        "old_enough=True\n",
        "is_licensed=False\n",
        "if old_enough and is_licensed:\n",
        "  print('you are of age to drive and have a license to drive.')\n",
        "else:\n",
        "  print('Sorry! Not eligible to drive the car.')\n",
        "\n",
        "print('okokook!')"
      ]
    },
    {
      "cell_type": "code",
      "source": [],
      "metadata": {
        "id": "KqnCr6ITMRSZ"
      },
      "execution_count": null,
      "outputs": []
    }
  ]
}