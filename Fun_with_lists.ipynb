{
  "nbformat": 4,
  "nbformat_minor": 0,
  "metadata": {
    "colab": {
      "provenance": [],
      "authorship_tag": "ABX9TyOujyzYmPqBHmCYn87SWJir",
      "include_colab_link": true
    },
    "kernelspec": {
      "name": "python3",
      "display_name": "Python 3"
    },
    "language_info": {
      "name": "python"
    }
  },
  "cells": [
    {
      "cell_type": "markdown",
      "metadata": {
        "id": "view-in-github",
        "colab_type": "text"
      },
      "source": [
        "<a href=\"https://colab.research.google.com/github/Ishita1026/Ishita1026/blob/main/Fun_with_lists.ipynb\" target=\"_parent\"><img src=\"https://colab.research.google.com/assets/colab-badge.svg\" alt=\"Open In Colab\"/></a>"
      ]
    },
    {
      "cell_type": "code",
      "execution_count": 3,
      "metadata": {
        "colab": {
          "base_uri": "https://localhost:8080/"
        },
        "id": "6diDg1Zn57lJ",
        "outputId": "daa3e17d-d16c-4282-c5fd-df4b8bbd4cb4"
      },
      "outputs": [
        {
          "output_type": "stream",
          "name": "stdout",
          "text": [
            "Oranges\n"
          ]
        }
      ],
      "source": [
        "# access \"Oranges\" and print it:\n",
        "# You will find the answer if you scroll down to the bottom, but attempt it yourself first\n",
        "basket = [\"Banana\", [\"Apples\", [\"Oranges\"], \"Blueberries\"]];\n",
        "print(basket[1][1][0])"
      ]
    },
    {
      "cell_type": "code",
      "source": [
        "\n",
        "basket = [\"Banana\", \"Apples\", \"Oranges\", \"Blueberries\"]\n",
        "\n",
        "# 1. Remove the Banana from the list\n",
        "basket.remove(\"Banana\")\n",
        "print(basket)\n",
        "\n",
        "# 2. Remove \"Blueberries\" from the list.\n",
        "basket.remove('Blueberries')\n",
        "print(basket)\n",
        "# 3. Put \"Kiwi\" at the end of the list.\n",
        "basket.append('Kiwi')\n",
        "print(basket)\n",
        "\n",
        "# 4. Add \"Apples\" at the beginning of the list\n",
        "basket.insert(0,'Apples')\n",
        "print(basket)\n",
        "\n",
        "# 5. Count how many apples in the basket\n",
        "basket.count('Apples')\n",
        "\n",
        "# 6. empty the basket\n",
        "basket.clear()\n",
        "print(basket)"
      ],
      "metadata": {
        "colab": {
          "base_uri": "https://localhost:8080/"
        },
        "id": "ZGRI9oEg8Cqi",
        "outputId": "21961da1-0918-47b8-e2da-bfa1fb3ffa83"
      },
      "execution_count": 20,
      "outputs": [
        {
          "output_type": "stream",
          "name": "stdout",
          "text": [
            "['Apples', 'Oranges', 'Blueberries']\n",
            "['Apples', 'Oranges']\n",
            "['Apples', 'Oranges', 'Kiwi']\n",
            "['Apples', 'Apples', 'Oranges', 'Kiwi']\n",
            "[]\n"
          ]
        }
      ]
    },
    {
      "cell_type": "code",
      "source": [
        "#fix this code so that it prints a sorted list of all of our friends (alphabetical). Scroll to see answer\n",
        "friends = ['Simon', 'Patty', 'Joy', 'Carrie', 'Amira', 'Chu']\n",
        "friends.sort()\n",
        "print(friends)"
      ],
      "metadata": {
        "colab": {
          "base_uri": "https://localhost:8080/"
        },
        "id": "l8NyFV0h-K22",
        "outputId": "2f6bba68-f576-40bb-bf36-66cc99a432de"
      },
      "execution_count": 22,
      "outputs": [
        {
          "output_type": "stream",
          "name": "stdout",
          "text": [
            "['Amira', 'Carrie', 'Chu', 'Joy', 'Patty', 'Simon']\n"
          ]
        }
      ]
    },
    {
      "cell_type": "code",
      "source": [],
      "metadata": {
        "id": "zqIWp1RABf2-"
      },
      "execution_count": null,
      "outputs": []
    }
  ]
}