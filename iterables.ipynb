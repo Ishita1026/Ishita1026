{
  "nbformat": 4,
  "nbformat_minor": 0,
  "metadata": {
    "colab": {
      "provenance": [],
      "authorship_tag": "ABX9TyN7kL/4QT9VZIa6zQFVFKlv",
      "include_colab_link": true
    },
    "kernelspec": {
      "name": "python3",
      "display_name": "Python 3"
    },
    "language_info": {
      "name": "python"
    }
  },
  "cells": [
    {
      "cell_type": "markdown",
      "metadata": {
        "id": "view-in-github",
        "colab_type": "text"
      },
      "source": [
        "<a href=\"https://colab.research.google.com/github/Ishita1026/Ishita1026/blob/main/iterables.ipynb\" target=\"_parent\"><img src=\"https://colab.research.google.com/assets/colab-badge.svg\" alt=\"Open In Colab\"/></a>"
      ]
    },
    {
      "cell_type": "code",
      "execution_count": null,
      "metadata": {
        "colab": {
          "base_uri": "https://localhost:8080/"
        },
        "id": "S9coDHgQeba1",
        "outputId": "ca89d310-4155-453c-8e44-1cb2f4ca5bb6"
      },
      "outputs": [
        {
          "output_type": "stream",
          "name": "stdout",
          "text": [
            "Z\n",
            "e\n",
            "r\n",
            "o\n",
            " \n",
            "t\n",
            "o\n",
            " \n",
            "m\n",
            "a\n",
            "s\n",
            "t\n",
            "e\n",
            "r\n",
            "y\n"
          ]
        }
      ],
      "source": [
        "#iterables\n",
        "# can internate through each value in the given list, tuple, set, dictionary ,string\n",
        "\n",
        "#for loop\n",
        "\n",
        "for x in 'Zero to mastery':\n",
        "  print(x)"
      ]
    },
    {
      "cell_type": "code",
      "source": [
        "for x in (1,2,3,4,5,6):\n",
        "  print(x)\n",
        "  print(x)\n",
        "  print(x)\n",
        "print(x)\n"
      ],
      "metadata": {
        "colab": {
          "base_uri": "https://localhost:8080/"
        },
        "id": "zD5-4D4Le3-w",
        "outputId": "cf371c30-b08e-4a69-d2b4-eae1be57c1cf"
      },
      "execution_count": null,
      "outputs": [
        {
          "output_type": "stream",
          "name": "stdout",
          "text": [
            "1\n",
            "1\n",
            "1\n",
            "2\n",
            "2\n",
            "2\n",
            "3\n",
            "3\n",
            "3\n",
            "4\n",
            "4\n",
            "4\n",
            "5\n",
            "5\n",
            "5\n",
            "6\n",
            "6\n",
            "6\n",
            "6\n"
          ]
        }
      ]
    },
    {
      "cell_type": "code",
      "source": [
        "#nested for loops\n",
        "for item in (1,2,3,4,5):\n",
        "  for x in['a','b','c']:\n",
        "    print((item),x)\n",
        "print('hi')"
      ],
      "metadata": {
        "colab": {
          "base_uri": "https://localhost:8080/"
        },
        "id": "EbEHkazBfS6T",
        "outputId": "9d265678-34d6-4dbc-f35b-0114aa0b1bc3"
      },
      "execution_count": null,
      "outputs": [
        {
          "output_type": "stream",
          "name": "stdout",
          "text": [
            "1 a\n",
            "1 b\n",
            "1 c\n",
            "2 a\n",
            "2 b\n",
            "2 c\n",
            "3 a\n",
            "3 b\n",
            "3 c\n",
            "4 a\n",
            "4 b\n",
            "4 c\n",
            "5 a\n",
            "5 b\n",
            "5 c\n",
            "hi\n"
          ]
        }
      ]
    },
    {
      "cell_type": "code",
      "source": [
        "\n",
        "# Write a program to find the sum of items in the list\n",
        "\n",
        "ishita_list= [1,2,3,4,5,6,7,8,9,10]\n",
        "counter=0\n",
        "for i in ishita_list:\n",
        "  counter+= i;\n",
        "\n",
        "print(counter)"
      ],
      "metadata": {
        "colab": {
          "base_uri": "https://localhost:8080/"
        },
        "id": "FhF73F7CgKT_",
        "outputId": "c3851f3d-2db3-4f49-9475-801501c51e5b"
      },
      "execution_count": null,
      "outputs": [
        {
          "output_type": "stream",
          "name": "stdout",
          "text": [
            "55\n"
          ]
        }
      ]
    },
    {
      "cell_type": "code",
      "source": [
        "# range and enumerate how to use them vvimp : dont have to worry while naming for range could be anything even an underscore becuase\n",
        "#all we are trying to do is use the range function\n",
        "\n",
        "for number in range(0,10):\n",
        "  print('email sent to all people')"
      ],
      "metadata": {
        "id": "ZF9IbTJOiZY7",
        "colab": {
          "base_uri": "https://localhost:8080/"
        },
        "outputId": "70affa41-9d25-42be-864b-b8e4dd87d7b4"
      },
      "execution_count": 3,
      "outputs": [
        {
          "output_type": "stream",
          "name": "stdout",
          "text": [
            "email sent to all people\n",
            "email sent to all people\n",
            "email sent to all people\n",
            "email sent to all people\n",
            "email sent to all people\n",
            "email sent to all people\n",
            "email sent to all people\n",
            "email sent to all people\n",
            "email sent to all people\n",
            "email sent to all people\n"
          ]
        }
      ]
    },
    {
      "cell_type": "code",
      "source": [
        "for i in range(2):\n",
        "  print(list(range(10)))"
      ],
      "metadata": {
        "colab": {
          "base_uri": "https://localhost:8080/"
        },
        "id": "dIIu8M7Ch20U",
        "outputId": "4dcfde8f-5c03-4e55-c663-93f1aa4e1e26"
      },
      "execution_count": 4,
      "outputs": [
        {
          "output_type": "stream",
          "name": "stdout",
          "text": [
            "[0, 1, 2, 3, 4, 5, 6, 7, 8, 9]\n",
            "[0, 1, 2, 3, 4, 5, 6, 7, 8, 9]\n"
          ]
        }
      ]
    },
    {
      "cell_type": "code",
      "source": [
        "# cannot print range in reverse if step over  not given\n",
        "for i in range(10,0,-2):\n",
        "  print(i)"
      ],
      "metadata": {
        "colab": {
          "base_uri": "https://localhost:8080/"
        },
        "id": "7z426EJeiiYr",
        "outputId": "be4b9ee4-7364-4fbf-8a95-a3b6d232d211"
      },
      "execution_count": 7,
      "outputs": [
        {
          "output_type": "stream",
          "name": "stdout",
          "text": [
            "10\n",
            "8\n",
            "6\n",
            "4\n",
            "2\n"
          ]
        }
      ]
    },
    {
      "cell_type": "code",
      "source": [
        "#enumerate is to find the index of number in a list\n",
        "\n",
        "for i,char in enumerate('Hellooooo'):\n",
        "  print(i,char)\n",
        "\n"
      ],
      "metadata": {
        "colab": {
          "base_uri": "https://localhost:8080/"
        },
        "id": "fSJuTnClixer",
        "outputId": "6f6c7fe1-0051-4c46-f569-c3a262206735"
      },
      "execution_count": 11,
      "outputs": [
        {
          "output_type": "stream",
          "name": "stdout",
          "text": [
            "0 H\n",
            "1 e\n",
            "2 l\n",
            "3 l\n",
            "4 o\n",
            "5 o\n",
            "6 o\n",
            "7 o\n",
            "8 o\n"
          ]
        }
      ]
    },
    {
      "cell_type": "code",
      "source": [
        "for i, char in enumerate(range(100)):\n",
        "  if char == 78:\n",
        "    print(f'The index of 78 is: {i}')\n"
      ],
      "metadata": {
        "colab": {
          "base_uri": "https://localhost:8080/"
        },
        "id": "55SNpAWfjGnT",
        "outputId": "997698f7-c2db-4a96-f17c-59fec1858ec5"
      },
      "execution_count": 15,
      "outputs": [
        {
          "output_type": "stream",
          "name": "stdout",
          "text": [
            "The index of 78 is: 78\n"
          ]
        }
      ]
    },
    {
      "cell_type": "code",
      "source": [],
      "metadata": {
        "id": "3ByQCmSBp8PV"
      },
      "execution_count": null,
      "outputs": []
    },
    {
      "cell_type": "code",
      "source": [
        "# while loops when to use and when to use for loops\n",
        "\n",
        "a=0\n",
        "while a<10:\n",
        "    print(a)\n",
        "    break\n"
      ],
      "metadata": {
        "colab": {
          "base_uri": "https://localhost:8080/"
        },
        "collapsed": true,
        "id": "xDsvIJGHkE5j",
        "outputId": "ac141a6e-f214-4c46-ecfe-b5dcc5a364bd"
      },
      "execution_count": 18,
      "outputs": [
        {
          "output_type": "stream",
          "name": "stdout",
          "text": [
            "0\n"
          ]
        }
      ]
    },
    {
      "cell_type": "code",
      "source": [
        "ishita_list=[1,2,3]\n",
        "for i in ishita_list:\n",
        "  print(i)\n"
      ],
      "metadata": {
        "colab": {
          "base_uri": "https://localhost:8080/"
        },
        "id": "EfLbsfN1qQPJ",
        "outputId": "d6733fe7-acbf-4377-af38-f10f647c5cf4"
      },
      "execution_count": 19,
      "outputs": [
        {
          "output_type": "stream",
          "name": "stdout",
          "text": [
            "1\n",
            "2\n",
            "3\n"
          ]
        }
      ]
    },
    {
      "cell_type": "code",
      "source": [
        "i=0\n",
        "while i<len(ishita_list):\n",
        "  print(ishita_list[i])\n",
        "  i+=1\n"
      ],
      "metadata": {
        "colab": {
          "base_uri": "https://localhost:8080/"
        },
        "id": "mUjg7ESzqn12",
        "outputId": "f5d32517-f398-4f73-8a97-8c57b433117b"
      },
      "execution_count": 23,
      "outputs": [
        {
          "output_type": "stream",
          "name": "stdout",
          "text": [
            "1\n",
            "2\n",
            "3\n"
          ]
        }
      ]
    },
    {
      "cell_type": "code",
      "source": [],
      "metadata": {
        "id": "8ZnWXmDouvF9"
      },
      "execution_count": null,
      "outputs": []
    },
    {
      "cell_type": "code",
      "source": [
        "# code to send out messages\n",
        "\n",
        "while True:\n",
        " response=input('say something: ')\n",
        " if (response == 'bye'):\n",
        "  break\n"
      ],
      "metadata": {
        "colab": {
          "base_uri": "https://localhost:8080/"
        },
        "id": "x4wOs9PlrmW7",
        "outputId": "662e23ed-608b-4f40-8f00-94152a43c8cb"
      },
      "execution_count": 30,
      "outputs": [
        {
          "name": "stdout",
          "output_type": "stream",
          "text": [
            "say something: hi\n",
            "say something: hi\n",
            "say something: HI\n",
            "say something: ok bye\n",
            "say something: bye\n"
          ]
        }
      ]
    },
    {
      "cell_type": "code",
      "source": [
        "# Display the image below to the right hand side where the 0 is going to be ' ', and the 1 is going to be '*'. This will reveal an image!\n",
        "picture = [\n",
        "  [0,0,0,1,0,0,0],\n",
        "  [0,0,1,1,1,0,0],\n",
        "  [0,1,1,1,1,1,0],\n",
        "  [1,1,1,1,1,1,1],\n",
        "  [0,0,0,1,0,0,0],\n",
        "  [0,0,0,1,0,0,0]\n",
        "]\n",
        "\n",
        "for row in picture:\n",
        "  for pixel in row:\n",
        "   if (pixel == 1):\n",
        "    print('*',end='')\n",
        "   else:\n",
        "    print(' ',end='')\n",
        "  print('')\n",
        ""
      ],
      "metadata": {
        "colab": {
          "base_uri": "https://localhost:8080/"
        },
        "collapsed": true,
        "id": "FE_7ATc4u4Js",
        "outputId": "ea301dab-1649-4b62-c95b-dbeba2f1ad80"
      },
      "execution_count": 39,
      "outputs": [
        {
          "output_type": "stream",
          "name": "stdout",
          "text": [
            "   *   \n",
            "  ***  \n",
            " ***** \n",
            "*******\n",
            "   *   \n",
            "   *   \n"
          ]
        }
      ]
    },
    {
      "cell_type": "code",
      "source": [],
      "metadata": {
        "id": "WuvYdkpyymtA"
      },
      "execution_count": null,
      "outputs": []
    }
  ]
}