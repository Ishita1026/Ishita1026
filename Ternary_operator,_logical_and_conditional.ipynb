{
  "nbformat": 4,
  "nbformat_minor": 0,
  "metadata": {
    "colab": {
      "provenance": [],
      "authorship_tag": "ABX9TyPy6sWVmO/tmWAgYmrM3eQR",
      "include_colab_link": true
    },
    "kernelspec": {
      "name": "python3",
      "display_name": "Python 3"
    },
    "language_info": {
      "name": "python"
    }
  },
  "cells": [
    {
      "cell_type": "markdown",
      "metadata": {
        "id": "view-in-github",
        "colab_type": "text"
      },
      "source": [
        "<a href=\"https://colab.research.google.com/github/Ishita1026/Ishita1026/blob/main/Ternary_operator%2C_logical_and_conditional.ipynb\" target=\"_parent\"><img src=\"https://colab.research.google.com/assets/colab-badge.svg\" alt=\"Open In Colab\"/></a>"
      ]
    },
    {
      "cell_type": "code",
      "execution_count": 1,
      "metadata": {
        "colab": {
          "base_uri": "https://localhost:8080/"
        },
        "id": "QFlK6G6bTkhH",
        "outputId": "6912157c-53a7-4383-99c4-7eab1e9d0a37"
      },
      "outputs": [
        {
          "output_type": "stream",
          "name": "stdout",
          "text": [
            "message allowed\n"
          ]
        }
      ],
      "source": [
        "# whether I can receiev a message on facebook given condition is that the friend is in the friend list\n",
        "is_friend=True\n",
        "can_message='message allowed' if is_friend else 'message not allowed'\n",
        "print(can_message)"
      ]
    },
    {
      "cell_type": "code",
      "source": [
        "#just got hired by a gaming company and have to create a wizard game and in ths wizard game create the following conditional statmenets\n",
        "is_magician=True\n",
        "is_expert=False\n",
        "\n",
        "if is_expert and is_magician:\n",
        "  print('you are a master magician')\n",
        "elif is_magician and not is_expert:\n",
        "  print('you are half way to becoming magician')\n",
        "elif not is_magician:\n",
        "  print('you need magic powers')\n"
      ],
      "metadata": {
        "colab": {
          "base_uri": "https://localhost:8080/"
        },
        "id": "laXC65wKVb73",
        "outputId": "834bfcb4-cf5e-4d33-c396-0e0d9fa36d75"
      },
      "execution_count": 11,
      "outputs": [
        {
          "output_type": "stream",
          "name": "stdout",
          "text": [
            "you are half way to becoming magician\n"
          ]
        }
      ]
    },
    {
      "cell_type": "code",
      "source": [
        "#is vs ==\n",
        "# is evaluates to objects stored at different locations in memory\n",
        "# == evaluates only values\n",
        "\n",
        "print([] is [])\n",
        "print([1,2,3] == [1,2,3])\n"
      ],
      "metadata": {
        "colab": {
          "base_uri": "https://localhost:8080/"
        },
        "id": "Ylw9TIDgYhTn",
        "outputId": "bbfa8789-3ae9-46c0-f08c-d5ac7be64a35"
      },
      "execution_count": 13,
      "outputs": [
        {
          "output_type": "stream",
          "name": "stdout",
          "text": [
            "False\n",
            "True\n"
          ]
        }
      ]
    },
    {
      "cell_type": "code",
      "source": [],
      "metadata": {
        "id": "D07Wkej2bVxB"
      },
      "execution_count": null,
      "outputs": []
    }
  ]
}